{
 "cells": [
  {
   "cell_type": "code",
   "execution_count": 5,
   "metadata": {},
   "outputs": [
    {
     "data": {
      "text/markdown": [
       "# notes\n",
       "\n",
       "JupyterHub workspaces, pipelines, and hosting\n",
       "\n",
       "## Workspaces\n",
       "\n",
       "Workspaces are a collection of notebooks and other resources that share common dependencies. See the [documentation](./workspaces/README.md) for more details on creating new workspaces.\n",
       "\n",
       "### Repositories\n",
       "\n",
       "- [finance](https://github.com/okkema/finance)\n",
       "\n",
       "## Pipelines\n",
       "\n",
       "Pipelines are run using GitHub Actions. \n",
       "\n",
       "### Actions\n",
       "- [publish-notebook](.github/actions/publish-notebook/action.yaml) - Used by workspaces to build and publish Jupyter notebooks\n",
       "\n",
       "### Workflows\n",
       "\n",
       "- [issues](.github/workflows/issues.yaml) - Adds new issues to default project\n",
       "- [push](.github/workflows/push.yaml) - Builds worker with [npm](./package.json) and runs [terraform](./terraform/) to deploy infrastructure\n",
       "\n",
       "## Hosting\n",
       "\n",
       "Rendered workspace notebooks are hosted using Cloudflare Workers, R2, and Zero Trust. Workspaces are responsible for rendering notebooks to HTML and uploading them to the correct location within the bucket. \n",
       "\n",
       "### Subdomains\n",
       "\n",
       "- `public` - Publicly accessible notebooks\n",
       "- `private` - Private notebooks accessible through Zero Trust"
      ],
      "text/plain": [
       "<IPython.core.display.Markdown object>"
      ]
     },
     "metadata": {},
     "output_type": "display_data"
    }
   ],
   "source": [
    "from IPython.display import display, Markdown\n",
    "\n",
    "with open(\"./README.md\", \"r\") as file:\n",
    "  content = file.read() \n",
    "  display(Markdown(content))"
   ]
  }
 ],
 "metadata": {
  "kernelspec": {
   "display_name": ".venv",
   "language": "python",
   "name": "python3"
  },
  "language_info": {
   "codemirror_mode": {
    "name": "ipython",
    "version": 3
   },
   "file_extension": ".py",
   "mimetype": "text/x-python",
   "name": "python",
   "nbconvert_exporter": "python",
   "pygments_lexer": "ipython3",
   "version": "3.11.4"
  },
  "orig_nbformat": 4
 },
 "nbformat": 4,
 "nbformat_minor": 2
}
